{
 "cells": [
  {
   "cell_type": "code",
   "execution_count": 1,
   "id": "3661d4a5",
   "metadata": {},
   "outputs": [],
   "source": [
    "import numpy as np\n",
    "import pandas as pd\n",
    "import seaborn as sns\n",
    "from sklearn.model_selection import train_test_split\n",
    "from sklearn.preprocessing import StandardScaler\n",
    "from sklearn.linear_model import LogisticRegression\n",
    "from matplotlib.colors import ListedColormap\n",
    "from sklearn import metrics\n",
    "%matplotlib inline\n",
    "from matplotlib import pyplot as plt\n",
    "import warnings;\n",
    "warnings.filterwarnings('ignore');\n"
   ]
  },
  {
   "cell_type": "code",
   "execution_count": 2,
   "id": "3a2173d2",
   "metadata": {},
   "outputs": [
    {
     "data": {
      "text/html": [
       "<div>\n",
       "<style scoped>\n",
       "    .dataframe tbody tr th:only-of-type {\n",
       "        vertical-align: middle;\n",
       "    }\n",
       "\n",
       "    .dataframe tbody tr th {\n",
       "        vertical-align: top;\n",
       "    }\n",
       "\n",
       "    .dataframe thead th {\n",
       "        text-align: right;\n",
       "    }\n",
       "</style>\n",
       "<table border=\"1\" class=\"dataframe\">\n",
       "  <thead>\n",
       "    <tr style=\"text-align: right;\">\n",
       "      <th></th>\n",
       "      <th>User ID</th>\n",
       "      <th>Gender</th>\n",
       "      <th>Age</th>\n",
       "      <th>EstimatedSalary</th>\n",
       "      <th>Purchased</th>\n",
       "    </tr>\n",
       "  </thead>\n",
       "  <tbody>\n",
       "    <tr>\n",
       "      <th>0</th>\n",
       "      <td>15624510</td>\n",
       "      <td>Male</td>\n",
       "      <td>19</td>\n",
       "      <td>19000</td>\n",
       "      <td>0</td>\n",
       "    </tr>\n",
       "    <tr>\n",
       "      <th>1</th>\n",
       "      <td>15810944</td>\n",
       "      <td>Male</td>\n",
       "      <td>35</td>\n",
       "      <td>20000</td>\n",
       "      <td>0</td>\n",
       "    </tr>\n",
       "    <tr>\n",
       "      <th>2</th>\n",
       "      <td>15668575</td>\n",
       "      <td>Female</td>\n",
       "      <td>26</td>\n",
       "      <td>43000</td>\n",
       "      <td>0</td>\n",
       "    </tr>\n",
       "    <tr>\n",
       "      <th>3</th>\n",
       "      <td>15603246</td>\n",
       "      <td>Female</td>\n",
       "      <td>27</td>\n",
       "      <td>57000</td>\n",
       "      <td>0</td>\n",
       "    </tr>\n",
       "    <tr>\n",
       "      <th>4</th>\n",
       "      <td>15804002</td>\n",
       "      <td>Male</td>\n",
       "      <td>19</td>\n",
       "      <td>76000</td>\n",
       "      <td>0</td>\n",
       "    </tr>\n",
       "    <tr>\n",
       "      <th>...</th>\n",
       "      <td>...</td>\n",
       "      <td>...</td>\n",
       "      <td>...</td>\n",
       "      <td>...</td>\n",
       "      <td>...</td>\n",
       "    </tr>\n",
       "    <tr>\n",
       "      <th>395</th>\n",
       "      <td>15691863</td>\n",
       "      <td>Female</td>\n",
       "      <td>46</td>\n",
       "      <td>41000</td>\n",
       "      <td>1</td>\n",
       "    </tr>\n",
       "    <tr>\n",
       "      <th>396</th>\n",
       "      <td>15706071</td>\n",
       "      <td>Male</td>\n",
       "      <td>51</td>\n",
       "      <td>23000</td>\n",
       "      <td>1</td>\n",
       "    </tr>\n",
       "    <tr>\n",
       "      <th>397</th>\n",
       "      <td>15654296</td>\n",
       "      <td>Female</td>\n",
       "      <td>50</td>\n",
       "      <td>20000</td>\n",
       "      <td>1</td>\n",
       "    </tr>\n",
       "    <tr>\n",
       "      <th>398</th>\n",
       "      <td>15755018</td>\n",
       "      <td>Male</td>\n",
       "      <td>36</td>\n",
       "      <td>33000</td>\n",
       "      <td>0</td>\n",
       "    </tr>\n",
       "    <tr>\n",
       "      <th>399</th>\n",
       "      <td>15594041</td>\n",
       "      <td>Female</td>\n",
       "      <td>49</td>\n",
       "      <td>36000</td>\n",
       "      <td>1</td>\n",
       "    </tr>\n",
       "  </tbody>\n",
       "</table>\n",
       "<p>400 rows × 5 columns</p>\n",
       "</div>"
      ],
      "text/plain": [
       "      User ID  Gender  Age  EstimatedSalary  Purchased\n",
       "0    15624510    Male   19            19000          0\n",
       "1    15810944    Male   35            20000          0\n",
       "2    15668575  Female   26            43000          0\n",
       "3    15603246  Female   27            57000          0\n",
       "4    15804002    Male   19            76000          0\n",
       "..        ...     ...  ...              ...        ...\n",
       "395  15691863  Female   46            41000          1\n",
       "396  15706071    Male   51            23000          1\n",
       "397  15654296  Female   50            20000          1\n",
       "398  15755018    Male   36            33000          0\n",
       "399  15594041  Female   49            36000          1\n",
       "\n",
       "[400 rows x 5 columns]"
      ]
     },
     "execution_count": 2,
     "metadata": {},
     "output_type": "execute_result"
    }
   ],
   "source": [
    "dataset=pd.read_csv(r\"C:/Users/HP/Downloads/archive/Social_Network_Ads.csv\")\n",
    "dataset"
   ]
  },
  {
   "cell_type": "code",
   "execution_count": 36,
   "id": "0f69bf2d",
   "metadata": {},
   "outputs": [
    {
     "data": {
      "text/plain": [
       "array([[    19,  19000],\n",
       "       [    35,  20000],\n",
       "       [    26,  43000],\n",
       "       [    27,  57000],\n",
       "       [    19,  76000],\n",
       "       [    27,  58000],\n",
       "       [    27,  84000],\n",
       "       [    32, 150000],\n",
       "       [    25,  33000],\n",
       "       [    35,  65000],\n",
       "       [    26,  80000],\n",
       "       [    26,  52000],\n",
       "       [    20,  86000],\n",
       "       [    32,  18000],\n",
       "       [    18,  82000],\n",
       "       [    29,  80000],\n",
       "       [    47,  25000],\n",
       "       [    45,  26000],\n",
       "       [    46,  28000],\n",
       "       [    48,  29000],\n",
       "       [    45,  22000],\n",
       "       [    47,  49000],\n",
       "       [    48,  41000],\n",
       "       [    45,  22000],\n",
       "       [    46,  23000],\n",
       "       [    47,  20000],\n",
       "       [    49,  28000],\n",
       "       [    47,  30000],\n",
       "       [    29,  43000],\n",
       "       [    31,  18000],\n",
       "       [    31,  74000],\n",
       "       [    27, 137000],\n",
       "       [    21,  16000],\n",
       "       [    28,  44000],\n",
       "       [    27,  90000],\n",
       "       [    35,  27000],\n",
       "       [    33,  28000],\n",
       "       [    30,  49000],\n",
       "       [    26,  72000],\n",
       "       [    27,  31000],\n",
       "       [    27,  17000],\n",
       "       [    33,  51000],\n",
       "       [    35, 108000],\n",
       "       [    30,  15000],\n",
       "       [    28,  84000],\n",
       "       [    23,  20000],\n",
       "       [    25,  79000],\n",
       "       [    27,  54000],\n",
       "       [    30, 135000],\n",
       "       [    31,  89000],\n",
       "       [    24,  32000],\n",
       "       [    18,  44000],\n",
       "       [    29,  83000],\n",
       "       [    35,  23000],\n",
       "       [    27,  58000],\n",
       "       [    24,  55000],\n",
       "       [    23,  48000],\n",
       "       [    28,  79000],\n",
       "       [    22,  18000],\n",
       "       [    32, 117000],\n",
       "       [    27,  20000],\n",
       "       [    25,  87000],\n",
       "       [    23,  66000],\n",
       "       [    32, 120000],\n",
       "       [    59,  83000],\n",
       "       [    24,  58000],\n",
       "       [    24,  19000],\n",
       "       [    23,  82000],\n",
       "       [    22,  63000],\n",
       "       [    31,  68000],\n",
       "       [    25,  80000],\n",
       "       [    24,  27000],\n",
       "       [    20,  23000],\n",
       "       [    33, 113000],\n",
       "       [    32,  18000],\n",
       "       [    34, 112000],\n",
       "       [    18,  52000],\n",
       "       [    22,  27000],\n",
       "       [    28,  87000],\n",
       "       [    26,  17000],\n",
       "       [    30,  80000],\n",
       "       [    39,  42000],\n",
       "       [    20,  49000],\n",
       "       [    35,  88000],\n",
       "       [    30,  62000],\n",
       "       [    31, 118000],\n",
       "       [    24,  55000],\n",
       "       [    28,  85000],\n",
       "       [    26,  81000],\n",
       "       [    35,  50000],\n",
       "       [    22,  81000],\n",
       "       [    30, 116000],\n",
       "       [    26,  15000],\n",
       "       [    29,  28000],\n",
       "       [    29,  83000],\n",
       "       [    35,  44000],\n",
       "       [    35,  25000],\n",
       "       [    28, 123000],\n",
       "       [    35,  73000],\n",
       "       [    28,  37000],\n",
       "       [    27,  88000],\n",
       "       [    28,  59000],\n",
       "       [    32,  86000],\n",
       "       [    33, 149000],\n",
       "       [    19,  21000],\n",
       "       [    21,  72000],\n",
       "       [    26,  35000],\n",
       "       [    27,  89000],\n",
       "       [    26,  86000],\n",
       "       [    38,  80000],\n",
       "       [    39,  71000],\n",
       "       [    37,  71000],\n",
       "       [    38,  61000],\n",
       "       [    37,  55000],\n",
       "       [    42,  80000],\n",
       "       [    40,  57000],\n",
       "       [    35,  75000],\n",
       "       [    36,  52000],\n",
       "       [    40,  59000],\n",
       "       [    41,  59000],\n",
       "       [    36,  75000],\n",
       "       [    37,  72000],\n",
       "       [    40,  75000],\n",
       "       [    35,  53000],\n",
       "       [    41,  51000],\n",
       "       [    39,  61000],\n",
       "       [    42,  65000],\n",
       "       [    26,  32000],\n",
       "       [    30,  17000],\n",
       "       [    26,  84000],\n",
       "       [    31,  58000],\n",
       "       [    33,  31000],\n",
       "       [    30,  87000],\n",
       "       [    21,  68000],\n",
       "       [    28,  55000],\n",
       "       [    23,  63000],\n",
       "       [    20,  82000],\n",
       "       [    30, 107000],\n",
       "       [    28,  59000],\n",
       "       [    19,  25000],\n",
       "       [    19,  85000],\n",
       "       [    18,  68000],\n",
       "       [    35,  59000],\n",
       "       [    30,  89000],\n",
       "       [    34,  25000],\n",
       "       [    24,  89000],\n",
       "       [    27,  96000],\n",
       "       [    41,  30000],\n",
       "       [    29,  61000],\n",
       "       [    20,  74000],\n",
       "       [    26,  15000],\n",
       "       [    41,  45000],\n",
       "       [    31,  76000],\n",
       "       [    36,  50000],\n",
       "       [    40,  47000],\n",
       "       [    31,  15000],\n",
       "       [    46,  59000],\n",
       "       [    29,  75000],\n",
       "       [    26,  30000],\n",
       "       [    32, 135000],\n",
       "       [    32, 100000],\n",
       "       [    25,  90000],\n",
       "       [    37,  33000],\n",
       "       [    35,  38000],\n",
       "       [    33,  69000],\n",
       "       [    18,  86000],\n",
       "       [    22,  55000],\n",
       "       [    35,  71000],\n",
       "       [    29, 148000],\n",
       "       [    29,  47000],\n",
       "       [    21,  88000],\n",
       "       [    34, 115000],\n",
       "       [    26, 118000],\n",
       "       [    34,  43000],\n",
       "       [    34,  72000],\n",
       "       [    23,  28000],\n",
       "       [    35,  47000],\n",
       "       [    25,  22000],\n",
       "       [    24,  23000],\n",
       "       [    31,  34000],\n",
       "       [    26,  16000],\n",
       "       [    31,  71000],\n",
       "       [    32, 117000],\n",
       "       [    33,  43000],\n",
       "       [    33,  60000],\n",
       "       [    31,  66000],\n",
       "       [    20,  82000],\n",
       "       [    33,  41000],\n",
       "       [    35,  72000],\n",
       "       [    28,  32000],\n",
       "       [    24,  84000],\n",
       "       [    19,  26000],\n",
       "       [    29,  43000],\n",
       "       [    19,  70000],\n",
       "       [    28,  89000],\n",
       "       [    34,  43000],\n",
       "       [    30,  79000],\n",
       "       [    20,  36000],\n",
       "       [    26,  80000],\n",
       "       [    35,  22000],\n",
       "       [    35,  39000],\n",
       "       [    49,  74000],\n",
       "       [    39, 134000],\n",
       "       [    41,  71000],\n",
       "       [    58, 101000],\n",
       "       [    47,  47000],\n",
       "       [    55, 130000],\n",
       "       [    52, 114000],\n",
       "       [    40, 142000],\n",
       "       [    46,  22000],\n",
       "       [    48,  96000],\n",
       "       [    52, 150000],\n",
       "       [    59,  42000],\n",
       "       [    35,  58000],\n",
       "       [    47,  43000],\n",
       "       [    60, 108000],\n",
       "       [    49,  65000],\n",
       "       [    40,  78000],\n",
       "       [    46,  96000],\n",
       "       [    59, 143000],\n",
       "       [    41,  80000],\n",
       "       [    35,  91000],\n",
       "       [    37, 144000],\n",
       "       [    60, 102000],\n",
       "       [    35,  60000],\n",
       "       [    37,  53000],\n",
       "       [    36, 126000],\n",
       "       [    56, 133000],\n",
       "       [    40,  72000],\n",
       "       [    42,  80000],\n",
       "       [    35, 147000],\n",
       "       [    39,  42000],\n",
       "       [    40, 107000],\n",
       "       [    49,  86000],\n",
       "       [    38, 112000],\n",
       "       [    46,  79000],\n",
       "       [    40,  57000],\n",
       "       [    37,  80000],\n",
       "       [    46,  82000],\n",
       "       [    53, 143000],\n",
       "       [    42, 149000],\n",
       "       [    38,  59000],\n",
       "       [    50,  88000],\n",
       "       [    56, 104000],\n",
       "       [    41,  72000],\n",
       "       [    51, 146000],\n",
       "       [    35,  50000],\n",
       "       [    57, 122000],\n",
       "       [    41,  52000],\n",
       "       [    35,  97000],\n",
       "       [    44,  39000],\n",
       "       [    37,  52000],\n",
       "       [    48, 134000],\n",
       "       [    37, 146000],\n",
       "       [    50,  44000],\n",
       "       [    52,  90000],\n",
       "       [    41,  72000],\n",
       "       [    40,  57000],\n",
       "       [    58,  95000],\n",
       "       [    45, 131000],\n",
       "       [    35,  77000],\n",
       "       [    36, 144000],\n",
       "       [    55, 125000],\n",
       "       [    35,  72000],\n",
       "       [    48,  90000],\n",
       "       [    42, 108000],\n",
       "       [    40,  75000],\n",
       "       [    37,  74000],\n",
       "       [    47, 144000],\n",
       "       [    40,  61000],\n",
       "       [    43, 133000],\n",
       "       [    59,  76000],\n",
       "       [    60,  42000],\n",
       "       [    39, 106000],\n",
       "       [    57,  26000],\n",
       "       [    57,  74000],\n",
       "       [    38,  71000],\n",
       "       [    49,  88000],\n",
       "       [    52,  38000],\n",
       "       [    50,  36000],\n",
       "       [    59,  88000],\n",
       "       [    35,  61000],\n",
       "       [    37,  70000],\n",
       "       [    52,  21000],\n",
       "       [    48, 141000],\n",
       "       [    37,  93000],\n",
       "       [    37,  62000],\n",
       "       [    48, 138000],\n",
       "       [    41,  79000],\n",
       "       [    37,  78000],\n",
       "       [    39, 134000],\n",
       "       [    49,  89000],\n",
       "       [    55,  39000],\n",
       "       [    37,  77000],\n",
       "       [    35,  57000],\n",
       "       [    36,  63000],\n",
       "       [    42,  73000],\n",
       "       [    43, 112000],\n",
       "       [    45,  79000],\n",
       "       [    46, 117000],\n",
       "       [    58,  38000],\n",
       "       [    48,  74000],\n",
       "       [    37, 137000],\n",
       "       [    37,  79000],\n",
       "       [    40,  60000],\n",
       "       [    42,  54000],\n",
       "       [    51, 134000],\n",
       "       [    47, 113000],\n",
       "       [    36, 125000],\n",
       "       [    38,  50000],\n",
       "       [    42,  70000],\n",
       "       [    39,  96000],\n",
       "       [    38,  50000],\n",
       "       [    49, 141000],\n",
       "       [    39,  79000],\n",
       "       [    39,  75000],\n",
       "       [    54, 104000],\n",
       "       [    35,  55000],\n",
       "       [    45,  32000],\n",
       "       [    36,  60000],\n",
       "       [    52, 138000],\n",
       "       [    53,  82000],\n",
       "       [    41,  52000],\n",
       "       [    48,  30000],\n",
       "       [    48, 131000],\n",
       "       [    41,  60000],\n",
       "       [    41,  72000],\n",
       "       [    42,  75000],\n",
       "       [    36, 118000],\n",
       "       [    47, 107000],\n",
       "       [    38,  51000],\n",
       "       [    48, 119000],\n",
       "       [    42,  65000],\n",
       "       [    40,  65000],\n",
       "       [    57,  60000],\n",
       "       [    36,  54000],\n",
       "       [    58, 144000],\n",
       "       [    35,  79000],\n",
       "       [    38,  55000],\n",
       "       [    39, 122000],\n",
       "       [    53, 104000],\n",
       "       [    35,  75000],\n",
       "       [    38,  65000],\n",
       "       [    47,  51000],\n",
       "       [    47, 105000],\n",
       "       [    41,  63000],\n",
       "       [    53,  72000],\n",
       "       [    54, 108000],\n",
       "       [    39,  77000],\n",
       "       [    38,  61000],\n",
       "       [    38, 113000],\n",
       "       [    37,  75000],\n",
       "       [    42,  90000],\n",
       "       [    37,  57000],\n",
       "       [    36,  99000],\n",
       "       [    60,  34000],\n",
       "       [    54,  70000],\n",
       "       [    41,  72000],\n",
       "       [    40,  71000],\n",
       "       [    42,  54000],\n",
       "       [    43, 129000],\n",
       "       [    53,  34000],\n",
       "       [    47,  50000],\n",
       "       [    42,  79000],\n",
       "       [    42, 104000],\n",
       "       [    59,  29000],\n",
       "       [    58,  47000],\n",
       "       [    46,  88000],\n",
       "       [    38,  71000],\n",
       "       [    54,  26000],\n",
       "       [    60,  46000],\n",
       "       [    60,  83000],\n",
       "       [    39,  73000],\n",
       "       [    59, 130000],\n",
       "       [    37,  80000],\n",
       "       [    46,  32000],\n",
       "       [    46,  74000],\n",
       "       [    42,  53000],\n",
       "       [    41,  87000],\n",
       "       [    58,  23000],\n",
       "       [    42,  64000],\n",
       "       [    48,  33000],\n",
       "       [    44, 139000],\n",
       "       [    49,  28000],\n",
       "       [    57,  33000],\n",
       "       [    56,  60000],\n",
       "       [    49,  39000],\n",
       "       [    39,  71000],\n",
       "       [    47,  34000],\n",
       "       [    48,  35000],\n",
       "       [    48,  33000],\n",
       "       [    47,  23000],\n",
       "       [    45,  45000],\n",
       "       [    60,  42000],\n",
       "       [    39,  59000],\n",
       "       [    46,  41000],\n",
       "       [    51,  23000],\n",
       "       [    50,  20000],\n",
       "       [    36,  33000],\n",
       "       [    49,  36000]], dtype=int64)"
      ]
     },
     "execution_count": 36,
     "metadata": {},
     "output_type": "execute_result"
    }
   ],
   "source": [
    "x=dataset.iloc[:,[2,3]].values\n",
    "x"
   ]
  },
  {
   "cell_type": "code",
   "execution_count": 4,
   "id": "9dd2f54f",
   "metadata": {},
   "outputs": [
    {
     "data": {
      "text/plain": [
       "array([0, 0, 0, 0, 0, 0, 0, 1, 0, 0, 0, 0, 0, 0, 0, 0, 1, 1, 1, 1, 1, 1,\n",
       "       1, 1, 1, 1, 1, 1, 0, 0, 0, 1, 0, 0, 0, 0, 0, 0, 0, 0, 0, 0, 0, 0,\n",
       "       0, 0, 0, 0, 1, 0, 0, 0, 0, 0, 0, 0, 0, 0, 0, 0, 0, 0, 0, 1, 0, 0,\n",
       "       0, 0, 0, 0, 0, 0, 0, 0, 0, 1, 0, 0, 0, 0, 0, 0, 0, 0, 0, 1, 0, 0,\n",
       "       0, 0, 0, 0, 0, 0, 0, 0, 0, 1, 0, 0, 0, 0, 0, 1, 0, 0, 0, 0, 0, 0,\n",
       "       0, 0, 0, 0, 0, 0, 0, 0, 0, 0, 0, 0, 0, 0, 0, 0, 0, 0, 0, 0, 0, 0,\n",
       "       0, 0, 0, 0, 0, 1, 0, 0, 0, 0, 0, 0, 0, 0, 1, 0, 0, 0, 0, 0, 0, 0,\n",
       "       0, 0, 0, 0, 0, 1, 1, 0, 0, 0, 0, 0, 0, 0, 1, 0, 0, 0, 0, 0, 0, 0,\n",
       "       0, 0, 0, 0, 0, 0, 1, 0, 0, 0, 0, 0, 0, 0, 0, 0, 0, 0, 0, 0, 0, 0,\n",
       "       0, 0, 0, 0, 1, 0, 1, 0, 1, 0, 1, 0, 1, 1, 0, 0, 0, 1, 0, 0, 0, 1,\n",
       "       0, 1, 1, 1, 0, 0, 1, 1, 0, 1, 1, 0, 1, 1, 0, 1, 0, 0, 0, 1, 1, 0,\n",
       "       1, 1, 0, 1, 0, 1, 0, 1, 0, 0, 1, 1, 0, 1, 0, 0, 1, 1, 0, 1, 1, 0,\n",
       "       1, 1, 0, 0, 1, 0, 0, 1, 1, 1, 1, 1, 0, 1, 1, 1, 1, 0, 1, 1, 0, 1,\n",
       "       0, 1, 0, 1, 1, 1, 1, 0, 0, 0, 1, 1, 0, 1, 1, 1, 1, 1, 0, 0, 0, 1,\n",
       "       1, 0, 0, 1, 0, 1, 0, 1, 1, 0, 1, 0, 1, 1, 0, 1, 1, 0, 0, 0, 1, 1,\n",
       "       0, 1, 0, 0, 1, 0, 1, 0, 0, 1, 1, 0, 0, 1, 1, 0, 1, 1, 0, 0, 1, 0,\n",
       "       1, 0, 1, 1, 1, 0, 1, 0, 1, 1, 1, 0, 1, 1, 1, 1, 0, 1, 1, 1, 0, 1,\n",
       "       0, 1, 0, 0, 1, 1, 0, 1, 1, 1, 1, 1, 1, 0, 1, 1, 1, 1, 1, 1, 0, 1,\n",
       "       1, 1, 0, 1], dtype=int64)"
      ]
     },
     "execution_count": 4,
     "metadata": {},
     "output_type": "execute_result"
    }
   ],
   "source": [
    "y=dataset.iloc[:,4].values\n",
    "y"
   ]
  },
  {
   "cell_type": "code",
   "execution_count": 5,
   "id": "26035182",
   "metadata": {},
   "outputs": [
    {
     "data": {
      "text/plain": [
       "<AxesSubplot:>"
      ]
     },
     "execution_count": 5,
     "metadata": {},
     "output_type": "execute_result"
    },
    {
     "data": {
      "image/png": "[encoded data removed]",
      "text/plain": [
       "<Figure size 432x288 with 2 Axes>"
      ]
     },
     "metadata": {
      "needs_background": "light"
     },
     "output_type": "display_data"
    }
   ],
   "source": [
    "sns.heatmap(dataset.corr(),annot=True,cmap='RdYlGn')\n"
   ]
  },
  {
   "cell_type": "markdown",
   "id": "534ff791",
   "metadata": {},
   "source": [
    "#train and test split"
   ]
  },
  {
   "cell_type": "code",
   "execution_count": 6,
   "id": "9809882c",
   "metadata": {},
   "outputs": [],
   "source": [
    "x_train,x_test,y_train,y_test=train_test_split(x,y,test_size=1/3,random_state=32)"
   ]
  },
  {
   "cell_type": "markdown",
   "id": "abb673a0",
   "metadata": {},
   "source": [
    "feature scalling"
   ]
  },
  {
   "cell_type": "code",
   "execution_count": 37,
   "id": "ce5ac508",
   "metadata": {},
   "outputs": [
    {
     "data": {
      "text/plain": [
       "array([[-0.42911487, -0.03317888],\n",
       "       [ 0.46419035, -0.15407724],\n",
       "       [-0.62762715, -1.57463308],\n",
       "       [ 1.05972717,  0.11794409],\n",
       "       [-1.71944464, -1.42351012],\n",
       "       [-0.03209033,  0.0574949 ],\n",
       "       [ 0.76195876, -0.75856909],\n",
       "       [ 0.86121489, -0.3354248 ],\n",
       "       [ 1.35749557, -1.42351012],\n",
       "       [-0.03209033,  0.69221134],\n",
       "       [ 0.76195876, -1.33283634],\n",
       "       [ 0.56344649,  1.90119503],\n",
       "       [-1.22316396, -1.1212642 ],\n",
       "       [ 0.06716581,  0.02727031],\n",
       "       [-0.92539555, -0.45632317],\n",
       "       [ 0.46419035,  0.60153756],\n",
       "       [ 1.1589833 , -0.15407724],\n",
       "       [ 1.65526398, -1.33283634],\n",
       "       [-0.03209033,  0.02727031],\n",
       "       [-1.12390783, -0.81901828],\n",
       "       [ 2.2508008 , -0.84924287],\n",
       "       [ 1.05972717,  0.60153756],\n",
       "       [ 0.96047103, -1.09103961],\n",
       "       [-0.13134647, -0.48654776],\n",
       "       [ 0.76195876, -1.45373471],\n",
       "       [-0.13134647, -0.54699694],\n",
       "       [ 1.05972717, -1.1212642 ],\n",
       "       [-1.12390783, -0.54699694],\n",
       "       [-0.03209033, -0.54699694],\n",
       "       [-0.03209033, -0.51677235],\n",
       "       [-0.52837101,  0.90378349],\n",
       "       [ 2.15154466,  2.20344095],\n",
       "       [ 0.26567808, -0.30520021],\n",
       "       [-0.03209033,  0.14816868],\n",
       "       [ 1.25823944, -1.03059042],\n",
       "       [ 0.16642194, -0.84924287],\n",
       "       [ 0.36493421, -0.21452643],\n",
       "       [ 2.05228853,  0.93400808],\n",
       "       [ 0.06716581, -0.27497561],\n",
       "       [ 0.46419035,  0.26906705],\n",
       "       [ 0.96047103, -1.5141839 ],\n",
       "       [-0.62762715,  1.44782615],\n",
       "       [-0.32985874,  1.26647859],\n",
       "       [ 0.26567808,  0.02727031],\n",
       "       [-0.03209033,  0.26906705],\n",
       "       [ 1.55600785,  0.35974082],\n",
       "       [-0.82613942,  0.29929164],\n",
       "       [-0.2306026 ,  0.14816868],\n",
       "       [ 0.16642194,  0.78288512],\n",
       "       [-0.62762715, -1.09103961],\n",
       "       [-1.91795691, -0.06340347],\n",
       "       [ 0.86121489,  0.54108838],\n",
       "       [ 2.2508008 , -0.84924287],\n",
       "       [-1.42167623, -0.21452643],\n",
       "       [-0.72688328, -0.24475102],\n",
       "       [-0.92539555,  0.4504146 ],\n",
       "       [ 0.96047103, -0.57722154],\n",
       "       [ 1.45675171,  2.05231799],\n",
       "       [ 0.26567808, -0.69811991],\n",
       "       [ 0.06716581, -0.57722154],\n",
       "       [-0.42911487, -1.18171338],\n",
       "       [-1.22316396,  0.60153756],\n",
       "       [ 1.05972717, -0.87946746],\n",
       "       [-0.32985874,  0.0574949 ],\n",
       "       [-0.13134647, -0.30520021],\n",
       "       [-1.12390783, -1.21193797],\n",
       "       [-1.02465169, -0.36564939],\n",
       "       [-0.72688328,  1.38737696],\n",
       "       [ 0.46419035,  1.02468185],\n",
       "       [ 0.16642194, -0.3354248 ],\n",
       "       [-0.13134647, -0.60744613],\n",
       "       [ 0.86121489,  0.78288512],\n",
       "       [ 0.86121489,  0.11794409],\n",
       "       [ 1.95303239,  0.11794409],\n",
       "       [ 1.95303239, -0.30520021],\n",
       "       [-0.82613942,  2.35456391],\n",
       "       [ 0.36493421,  0.0574949 ],\n",
       "       [ 1.1589833 , -1.03059042],\n",
       "       [ 0.46419035, -0.48654776],\n",
       "       [ 0.96047103, -0.60744613],\n",
       "       [ 0.46419035,  2.38478851],\n",
       "       [-0.62762715, -0.36564939],\n",
       "       [ 0.06716581, -0.3354248 ],\n",
       "       [ 0.16642194, -0.84924287],\n",
       "       [ 0.16642194,  1.08513104],\n",
       "       [ 0.96047103, -0.63767072],\n",
       "       [ 0.46419035, -0.51677235],\n",
       "       [ 0.16642194,  0.02727031],\n",
       "       [ 1.05972717,  1.47805074],\n",
       "       [-0.62762715,  0.02727031],\n",
       "       [-0.32985874,  1.35715237],\n",
       "       [-0.62762715, -1.66530686],\n",
       "       [-0.03209033, -1.1212642 ],\n",
       "       [-0.2306026 , -0.51677235],\n",
       "       [-1.6201885 , -1.63508227],\n",
       "       [-0.03209033, -0.45632317],\n",
       "       [ 0.76195876, -1.15148879],\n",
       "       [ 0.86121489, -1.42351012],\n",
       "       [ 0.96047103,  1.11535563],\n",
       "       [-1.12390783, -1.66530686],\n",
       "       [ 2.05228853,  0.75266052],\n",
       "       [-0.2306026 , -0.30520021],\n",
       "       [-0.03209033,  0.20861786],\n",
       "       [ 1.05972717,  2.14299177],\n",
       "       [-0.2306026 , -0.36564939],\n",
       "       [ 1.1589833 , -1.27238716],\n",
       "       [-0.2306026 ,  0.0574949 ],\n",
       "       [-0.82613942, -1.27238716],\n",
       "       [ 1.95303239, -1.33283634],\n",
       "       [ 0.96047103, -1.36306094],\n",
       "       [-0.72688328, -1.60485767],\n",
       "       [-0.72688328,  0.51086379],\n",
       "       [-0.2306026 ,  0.02727031],\n",
       "       [-1.12390783,  0.0574949 ],\n",
       "       [-1.3224201 , -0.45632317],\n",
       "       [ 0.16642194,  0.20861786],\n",
       "       [-0.62762715,  0.11794409],\n",
       "       [-0.42911487,  1.29670318],\n",
       "       [-0.13134647,  0.87355889],\n",
       "       [-0.03209033,  0.23884245],\n",
       "       [-1.3224201 , -0.45632317],\n",
       "       [-1.02465169, -0.48654776],\n",
       "       [ 0.56344649,  1.78029666],\n",
       "       [-1.12390783, -1.66530686],\n",
       "       [-1.91795691,  0.48063919],\n",
       "       [-0.13134647,  1.68962288],\n",
       "       [ 1.65526398, -0.00295428],\n",
       "       [-0.92539555, -1.00036583],\n",
       "       [ 0.06716581, -0.45632317],\n",
       "       [ 1.45675171,  1.32692778],\n",
       "       [ 0.16642194,  0.26906705],\n",
       "       [-0.92539555,  0.26906705],\n",
       "       [-1.81870078, -1.48395931],\n",
       "       [ 2.05228853, -1.42351012],\n",
       "       [-0.2306026 , -0.45632317],\n",
       "       [ 0.26567808,  1.11535563],\n",
       "       [-1.6201885 , -0.06340347],\n",
       "       [-0.72688328,  0.26906705],\n",
       "       [ 0.36493421,  0.0574949 ],\n",
       "       [-1.42167623, -1.27238716],\n",
       "       [ 0.16642194,  1.93141962],\n",
       "       [-0.2306026 , -0.60744613],\n",
       "       [ 2.15154466,  1.81052125],\n",
       "       [-1.42167623,  0.35974082],\n",
       "       [ 1.75452012, -0.93991664],\n",
       "       [ 0.46419035,  0.29929164],\n",
       "       [ 0.56344649,  1.26647859],\n",
       "       [ 0.26567808,  0.23884245],\n",
       "       [ 1.75452012,  1.65939829],\n",
       "       [-0.42911487, -0.81901828],\n",
       "       [-0.42911487, -0.57722154],\n",
       "       [ 0.36493421, -0.54699694],\n",
       "       [-0.03209033, -0.24475102],\n",
       "       [ 0.36493421, -0.30520021],\n",
       "       [ 0.36493421, -0.54699694],\n",
       "       [-0.2306026 , -1.42351012],\n",
       "       [-0.52837101,  1.41760155],\n",
       "       [-0.42911487, -1.27238716],\n",
       "       [-1.81870078, -1.33283634],\n",
       "       [ 0.26567808, -0.39587398],\n",
       "       [-0.72688328,  1.96164422],\n",
       "       [-0.72688328,  0.57131297],\n",
       "       [-1.02465169,  0.42019001],\n",
       "       [-0.92539555,  1.59894911],\n",
       "       [-0.03209033,  2.23366555],\n",
       "       [-0.62762715, -0.06340347],\n",
       "       [-0.2306026 ,  0.54108838],\n",
       "       [-0.13134647, -1.1212642 ],\n",
       "       [-0.2306026 , -0.69811991],\n",
       "       [-0.62762715,  0.57131297],\n",
       "       [-1.3224201 ,  0.42019001],\n",
       "       [ 0.36493421,  0.29929164],\n",
       "       [-0.13134647,  1.44782615],\n",
       "       [ 1.05972717, -1.21193797],\n",
       "       [-1.71944464,  0.35974082],\n",
       "       [-0.92539555,  0.57131297],\n",
       "       [ 0.16642194,  0.14816868],\n",
       "       [ 1.85377625,  1.90119503],\n",
       "       [ 0.26567808,  0.14816868],\n",
       "       [-1.81870078, -1.54440849],\n",
       "       [ 0.16642194, -0.27497561],\n",
       "       [ 0.86121489, -0.87946746],\n",
       "       [ 0.36493421, -0.3354248 ],\n",
       "       [ 0.46419035,  1.14558022],\n",
       "       [-0.2306026 , -0.93991664],\n",
       "       [ 0.26567808,  0.0574949 ],\n",
       "       [-1.12390783, -1.06081501],\n",
       "       [ 0.16642194,  1.56872452],\n",
       "       [-0.52837101,  2.4150131 ],\n",
       "       [-0.2306026 ,  0.14816868],\n",
       "       [-1.91795691, -0.54699694],\n",
       "       [ 0.36493421, -1.21193797],\n",
       "       [-1.12390783,  0.42019001],\n",
       "       [ 0.06716581, -0.60744613],\n",
       "       [-0.92539555,  0.51086379],\n",
       "       [ 0.46419035, -0.15407724],\n",
       "       [ 0.26567808, -0.39587398],\n",
       "       [ 0.36493421,  0.0574949 ],\n",
       "       [-0.52837101,  1.96164422],\n",
       "       [-1.91795691, -0.78879368],\n",
       "       [-0.92539555, -1.15148879],\n",
       "       [-0.2306026 , -0.3354248 ],\n",
       "       [-1.12390783,  0.29929164],\n",
       "       [-0.2306026 , -0.27497561],\n",
       "       [ 1.75452012,  1.81052125],\n",
       "       [ 2.05228853,  2.23366555],\n",
       "       [ 0.66270262, -0.93991664],\n",
       "       [-0.42911487, -0.87946746],\n",
       "       [-0.2306026 ,  0.26906705],\n",
       "       [ 1.55600785,  1.02468185],\n",
       "       [-1.52093237, -0.21452643],\n",
       "       [ 0.86121489,  0.26906705],\n",
       "       [-1.6201885 ,  0.0574949 ],\n",
       "       [-0.2306026 ,  0.08771949],\n",
       "       [-1.3224201 , -1.42351012],\n",
       "       [ 0.36493421,  0.02727031],\n",
       "       [ 0.86121489,  1.41760155],\n",
       "       [-0.62762715,  0.17839327],\n",
       "       [-0.32985874, -0.81901828],\n",
       "       [-1.3224201 , -1.15148879],\n",
       "       [-1.22316396,  0.51086379],\n",
       "       [-0.52837101, -1.57463308],\n",
       "       [ 0.46419035,  0.29929164],\n",
       "       [ 1.35749557,  1.93141962],\n",
       "       [ 1.45675171,  2.4150131 ],\n",
       "       [ 0.26567808,  2.17321636],\n",
       "       [ 2.2508008 ,  0.38996542],\n",
       "       [ 0.06716581,  1.29670318],\n",
       "       [ 0.16642194,  0.02727031],\n",
       "       [ 1.1589833 , -0.93991664],\n",
       "       [ 2.15154466,  0.38996542],\n",
       "       [ 1.55600785,  2.20344095],\n",
       "       [-1.52093237,  0.32951623],\n",
       "       [-0.2306026 ,  0.63176215],\n",
       "       [-0.82613942,  0.38996542],\n",
       "       [-0.82613942,  0.14816868],\n",
       "       [-0.13134647,  0.14816868],\n",
       "       [-1.42167623, -0.12385265],\n",
       "       [-0.03209033,  0.11794409],\n",
       "       [-1.52093237, -1.30261175],\n",
       "       [-1.52093237, -0.45632317],\n",
       "       [-0.2306026 ,  0.81310971],\n",
       "       [-0.62762715, -0.12385265],\n",
       "       [ 0.36493421,  0.51086379],\n",
       "       [-1.02465169,  0.54108838],\n",
       "       [-0.92539555, -0.3354248 ],\n",
       "       [-1.71944464, -0.63767072],\n",
       "       [-0.2306026 ,  1.14558022],\n",
       "       [ 2.15154466,  0.54108838],\n",
       "       [-0.2306026 , -1.30261175],\n",
       "       [-1.3224201 , -0.36564939],\n",
       "       [ 1.05972717, -1.1212642 ],\n",
       "       [-1.81870078, -1.36306094],\n",
       "       [-1.81870078,  0.17839327],\n",
       "       [-0.2306026 , -0.15407724],\n",
       "       [ 0.06716581,  1.26647859],\n",
       "       [ 0.76195876,  1.84074585],\n",
       "       [-0.2306026 , -0.60744613],\n",
       "       [-1.3224201 , -1.30261175],\n",
       "       [ 1.05972717,  1.93141962],\n",
       "       [-1.12390783,  0.32951623],\n",
       "       [ 0.46419035, -0.18430184],\n",
       "       [ 0.46419035, -0.00295428],\n",
       "       [ 1.05972717, -1.06081501],\n",
       "       [-0.72688328, -1.66530686],\n",
       "       [ 2.2508008 ,  1.14558022]])"
      ]
     },
     "execution_count": 37,
     "metadata": {},
     "output_type": "execute_result"
    }
   ],
   "source": [
    "x_train"
   ]
  },
  {
   "cell_type": "code",
   "execution_count": 7,
   "id": "e69e3034",
   "metadata": {},
   "outputs": [],
   "source": [
    "standard_scaler=StandardScaler()\n",
    "x_train=standard_scaler.fit_transform(x_train)\n",
    "x_test=standard_scaler.transform(x_test)\n"
   ]
  },
  {
   "cell_type": "code",
   "execution_count": 9,
   "id": "fc41adfb",
   "metadata": {},
   "outputs": [
    {
     "data": {
      "text/plain": [
       "LogisticRegression(random_state=0)"
      ]
     },
     "execution_count": 9,
     "metadata": {},
     "output_type": "execute_result"
    }
   ],
   "source": [
    "log_reg=LogisticRegression(random_state=0)\n",
    "#x_test=standard_scaler.transform(x_test)\n",
    "log_reg.fit(x_train,y_train)"
   ]
  },
  {
   "cell_type": "markdown",
   "id": "fabd2d7e",
   "metadata": {},
   "source": [
    "predict for dataset"
   ]
  },
  {
   "cell_type": "code",
   "execution_count": 10,
   "id": "afd76df5",
   "metadata": {},
   "outputs": [
    {
     "data": {
      "text/plain": [
       "array([1, 0, 0, 1, 1, 0, 0, 1, 1, 0, 0, 0, 1, 0, 0, 0, 0, 1, 0, 1, 1, 0,\n",
       "       1, 1, 0, 1, 0, 0, 1, 0, 1, 1, 0, 1, 0, 0, 0, 1, 0, 0, 0, 0, 1, 0,\n",
       "       0, 1, 1, 0, 1, 0, 0, 1, 0, 0, 0, 0, 1, 0, 1, 0, 0, 0, 0, 1, 1, 0,\n",
       "       0, 1, 0, 1, 0, 0, 1, 1, 1, 1, 0, 0, 0, 0, 0, 1, 1, 0, 1, 1, 0, 1,\n",
       "       1, 0, 1, 0, 0, 0, 0, 0, 0, 0, 0, 0, 0, 0, 0, 0, 0, 0, 1, 1, 0, 0,\n",
       "       0, 1, 1, 0, 0, 0, 0, 0, 0, 0, 0, 1, 0, 0, 0, 0, 0, 1, 1, 1, 0, 0,\n",
       "       0, 0], dtype=int64)"
      ]
     },
     "execution_count": 10,
     "metadata": {},
     "output_type": "execute_result"
    }
   ],
   "source": [
    "y_pred=log_reg.predict(x_test)\n",
    "y_pred"
   ]
  },
  {
   "cell_type": "code",
   "execution_count": 11,
   "id": "4af2a010",
   "metadata": {},
   "outputs": [
    {
     "data": {
      "text/plain": [
       "array([1, 0, 1, 1, 1, 0, 0, 1, 1, 0, 0, 0, 1, 0, 0, 0, 0, 1, 0, 1, 1, 0,\n",
       "       1, 1, 0, 0, 0, 0, 1, 1, 0, 1, 0, 1, 0, 0, 0, 1, 0, 0, 0, 0, 1, 0,\n",
       "       0, 1, 1, 0, 0, 0, 0, 1, 0, 0, 0, 0, 1, 0, 1, 1, 0, 0, 0, 1, 1, 0,\n",
       "       0, 1, 0, 0, 1, 0, 1, 1, 0, 1, 0, 0, 0, 0, 0, 1, 1, 0, 0, 1, 1, 1,\n",
       "       1, 1, 1, 0, 0, 0, 0, 0, 0, 0, 0, 0, 1, 1, 0, 1, 0, 0, 1, 1, 0, 0,\n",
       "       0, 1, 1, 0, 0, 0, 1, 1, 0, 1, 0, 1, 0, 0, 0, 0, 1, 1, 1, 0, 0, 0,\n",
       "       0, 0], dtype=int64)"
      ]
     },
     "execution_count": 11,
     "metadata": {},
     "output_type": "execute_result"
    }
   ],
   "source": [
    "y_test"
   ]
  },
  {
   "cell_type": "markdown",
   "id": "1e640f7b",
   "metadata": {},
   "source": [
    "visualizing the training set result"
   ]
  },
  {
   "cell_type": "code",
   "execution_count": 12,
   "id": "402c659d",
   "metadata": {},
   "outputs": [
    {
     "name": "stderr",
     "output_type": "stream",
     "text": [
      "*c* argument looks like a single numeric RGB or RGBA sequence, which should be avoided as value-mapping will have precedence in case its length matches with *x* & *y*.  Please use the *color* keyword-argument or provide a 2-D array with a single row if you intend to specify the same RGB or RGBA value for all points.\n",
      "*c* argument looks like a single numeric RGB or RGBA sequence, which should be avoided as value-mapping will have precedence in case its length matches with *x* & *y*.  Please use the *color* keyword-argument or provide a 2-D array with a single row if you intend to specify the same RGB or RGBA value for all points.\n"
     ]
    },
    {
     "data": {
      "image/png": "[encoded data removed]",
      "text/plain": [
       "<Figure size 432x288 with 1 Axes>"
      ]
     },
     "metadata": {
      "needs_background": "light"
     },
     "output_type": "display_data"
    }
   ],
   "source": [
    "x_set,y_set=x_train,y_train\n",
    "x1,x2=np.meshgrid(np.arange(start=x_set[:,0].min()-1,stop=x_set[:,0].max()+1,step=0.01),\n",
    "                  np.arange(start=x_set[:,0].min()-1,stop=x_set[:,0].max()+1,step=0.01))\n",
    "plt.contourf(x1,x2,log_reg.predict(np.array([x1.ravel(),x2.ravel()]).T).reshape(x1.shape),\n",
    "           alpha=0.75,cmap=ListedColormap(('black','red')))\n",
    "plt.xlim(x1.min(),x1.max())\n",
    "plt.xlim(x1.min(),x1.max())\n",
    "for i,j in enumerate(np.unique(y_set)):\n",
    "    plt.scatter(x_set[y_set==j,0],x_set[y_set==j,1],\n",
    "               c=ListedColormap(['blue','green'])(i),label=j)\n",
    "plt.title=('Logistic Regression(Train set)')\n",
    "plt.xlabel('Age')\n",
    "plt.ylabel('Estimated salary')\n",
    "plt.legend()\n",
    "plt.show()\n"
   ]
  },
  {
   "cell_type": "code",
   "execution_count": 13,
   "id": "79207ed7",
   "metadata": {},
   "outputs": [
    {
     "name": "stderr",
     "output_type": "stream",
     "text": [
      "*c* argument looks like a single numeric RGB or RGBA sequence, which should be avoided as value-mapping will have precedence in case its length matches with *x* & *y*.  Please use the *color* keyword-argument or provide a 2-D array with a single row if you intend to specify the same RGB or RGBA value for all points.\n",
      "*c* argument looks like a single numeric RGB or RGBA sequence, which should be avoided as value-mapping will have precedence in case its length matches with *x* & *y*.  Please use the *color* keyword-argument or provide a 2-D array with a single row if you intend to specify the same RGB or RGBA value for all points.\n"
     ]
    },
    {
     "data": {
      "image/png": "[encoded data removed]",
      "text/plain": [
       "<Figure size 432x288 with 1 Axes>"
      ]
     },
     "metadata": {
      "needs_background": "light"
     },
     "output_type": "display_data"
    }
   ],
   "source": [
    "x_set,y_set=x_test,y_test\n",
    "x1,x2=np.meshgrid(np.arange(start=x_set[:,0].min()-1,stop=x_set[:,0].max()+1,step=0.01),\n",
    "                  np.arange(start=x_set[:,1].min()-1,stop=x_set[:,1].max()+1,step=0.01))\n",
    "plt.contourf(x1,x2,log_reg.predict(np.array([x1.ravel(),x2.ravel()]).T).reshape(x1.shape),\n",
    "           alpha=0.75,cmap=ListedColormap(('black','blue')))\n",
    "plt.xlim(x1.min(),x1.max())\n",
    "plt.ylim(x2.min(),x2.max())\n",
    "for i,j in enumerate(np.unique(y_set)):\n",
    "    plt.scatter(x_set[y_set==j,0],x_set[y_set==j,1],\n",
    "               c=ListedColormap(['yellow','red'])(i),label=j)\n",
    "plt.title=('Logistic Regression(Test set)')\n",
    "plt.xlabel('Age')\n",
    "plt.ylabel('Estimated salary')\n",
    "plt.legend()\n",
    "plt.show()\n"
   ]
  },
  {
   "cell_type": "code",
   "execution_count": 14,
   "id": "f198d37a",
   "metadata": {},
   "outputs": [
    {
     "data": {
      "text/plain": [
       "array([[74,  7],\n",
       "       [13, 40]], dtype=int64)"
      ]
     },
     "execution_count": 14,
     "metadata": {},
     "output_type": "execute_result"
    }
   ],
   "source": [
    "from sklearn.metrics import confusion_matrix\n",
    "conf_matrix=confusion_matrix(y_test,y_pred)\n",
    "conf_matrix"
   ]
  },
  {
   "cell_type": "markdown",
   "id": "b144d754",
   "metadata": {},
   "source": [
    "#accuracy"
   ]
  },
  {
   "cell_type": "code",
   "execution_count": 38,
   "id": "cb5ebebf",
   "metadata": {},
   "outputs": [
    {
     "data": {
      "text/plain": [
       "0.8507462686567164"
      ]
     },
     "execution_count": 38,
     "metadata": {},
     "output_type": "execute_result"
    }
   ],
   "source": [
    "accuracy=(74+40)/len(y_test)\n",
    "accuracy"
   ]
  },
  {
   "cell_type": "markdown",
   "id": "9030753b",
   "metadata": {},
   "source": [
    "###misclassification rate"
   ]
  },
  {
   "cell_type": "code",
   "execution_count": 39,
   "id": "24dfb2c0",
   "metadata": {},
   "outputs": [
    {
     "data": {
      "text/plain": [
       "0.14925373134328357"
      ]
     },
     "execution_count": 39,
     "metadata": {},
     "output_type": "execute_result"
    }
   ],
   "source": [
    "#mis_cla_rate= (11+6)/len(y_test)\n",
    "mis_cla_rate=1-accuracy\n",
    "mis_cla_rate"
   ]
  },
  {
   "cell_type": "markdown",
   "id": "02fcedee",
   "metadata": {},
   "source": [
    "###accuracy,precision,Recall etc"
   ]
  },
  {
   "cell_type": "code",
   "execution_count": 40,
   "id": "cd2a2803",
   "metadata": {},
   "outputs": [
    {
     "name": "stdout",
     "output_type": "stream",
     "text": [
      "Accuracy: 0.8507462686567164\n"
     ]
    }
   ],
   "source": [
    "print(\"Accuracy:\",metrics.accuracy_score(y_test,y_pred))"
   ]
  },
  {
   "cell_type": "code",
   "execution_count": 41,
   "id": "75376331",
   "metadata": {},
   "outputs": [
    {
     "name": "stdout",
     "output_type": "stream",
     "text": [
      "precision: 0.851063829787234\n"
     ]
    }
   ],
   "source": [
    "print(\"precision:\",metrics.precision_score(y_test,y_pred))"
   ]
  },
  {
   "cell_type": "code",
   "execution_count": 42,
   "id": "17bf5d6d",
   "metadata": {},
   "outputs": [
    {
     "name": "stdout",
     "output_type": "stream",
     "text": [
      "Recall: 0.7547169811320755\n"
     ]
    }
   ],
   "source": [
    "print(\"Recall:\",metrics.recall_score(y_test,y_pred))"
   ]
  },
  {
   "cell_type": "markdown",
   "id": "462d5ff1",
   "metadata": {},
   "source": [
    "###ROC and AUC"
   ]
  },
  {
   "cell_type": "code",
   "execution_count": 33,
   "id": "4f59dea9",
   "metadata": {},
   "outputs": [
    {
     "data": {
      "image/png": "[encoded data removed]",
      "text/plain": [
       "<Figure size 720x576 with 1 Axes>"
      ]
     },
     "metadata": {
      "needs_background": "light"
     },
     "output_type": "display_data"
    }
   ],
   "source": [
    "y_pred_proba=log_reg.predict_proba(x_test)[::,1]\n",
    "fpr,tpr,_=metrics.roc_curve(y_test,y_pred_proba)\n",
    "auc=metrics.roc_auc_score(y_test,y_pred_proba)\n",
    "plt.figure(figsize=(10,8))\n",
    "plt.plot(fpr,tpr,label=\"auc=\"+str(auc))\n",
    "plt.legend(loc=4)\n",
    "plt.title=('Receiver Operating Characteristic Curve')\n",
    "plt.xlabel=(\"FPR--->\")\n",
    "plt.ylabel=(\"TPR--->\")\n",
    "plt.show()"
   ]
  },
  {
   "cell_type": "code",
   "execution_count": null,
   "id": "a5ef765e",
   "metadata": {},
   "outputs": [],
   "source": []
  }
 ],
 "metadata": {
  "kernelspec": {
   "display_name": "Python 3",
   "language": "python",
   "name": "python3"
  },
  "language_info": {
   "codemirror_mode": {
    "name": "ipython",
    "version": 3
   },
   "file_extension": ".py",
   "mimetype": "text/x-python",
   "name": "python",
   "nbconvert_exporter": "python",
   "pygments_lexer": "ipython3",
   "version": "3.8.8"
  }
 },
 "nbformat": 4,
 "nbformat_minor": 5
}
